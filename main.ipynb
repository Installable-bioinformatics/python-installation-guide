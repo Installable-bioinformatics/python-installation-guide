{
 "cells": [
  {
   "cell_type": "markdown",
   "metadata": {},
   "source": [
    "# Install\n",
    "\n",
    "Here are all the instructions to install the tool and link to the official installation guide if it is well maintaned. As en example, here is the Biopython Download page:\n",
    "\n",
    "- [Official installation instructions](https://biopython.org/wiki/Download)"
   ]
  },
  {
   "cell_type": "markdown",
   "metadata": {},
   "source": [
    "### Requirements\n",
    "\n",
    "Here are the dependencies of the package are mentioned. As en example, For Biopython:\n",
    "\n",
    "- [NumPy (Numerical Python)](https://numpy.org/)\n",
    "\n",
    "Optional Software for Biopython:\n",
    "\n",
    "- [ReportLab](http://www.reportlab.com/software/downloads/) – used for pdf graphics code\n",
    "- [psycopg](http://initd.org/psycopg/)  – used for BioSQL with a PostgreSQL database\n",
    "- [mysql-connector](http://dev.mysql.com/downloads/connector/python/) – used for BioSQL with a MySQL database\n",
    "- [MySQLdb](http://sourceforge.net/projects/mysql-python) – An alternative MySQL library used by BioSQL\n",
    "\n",
    "This entire \"Installation\" section is also duplicated in `README.MD`."
   ]
  },
  {
   "cell_type": "markdown",
   "metadata": {},
   "source": [
    "# Example"
   ]
  },
  {
   "cell_type": "markdown",
   "metadata": {},
   "source": [
    "# Reproducibility section"
   ]
  },
  {
   "cell_type": "markdown",
   "metadata": {},
   "source": [
    "### Python version"
   ]
  },
  {
   "cell_type": "code",
   "execution_count": 14,
   "metadata": {},
   "outputs": [
    {
     "name": "stdout",
     "output_type": "stream",
     "text": [
      "3.12.8\n"
     ]
    }
   ],
   "source": [
    "import platform\n",
    "PYTHON_VERSION = platform.python_version()\n",
    "print(PYTHON_VERSION)"
   ]
  },
  {
   "cell_type": "markdown",
   "metadata": {},
   "source": [
    "### Generate"
   ]
  },
  {
   "cell_type": "code",
   "execution_count": null,
   "metadata": {},
   "outputs": [
    {
     "name": "stdout",
     "output_type": "stream",
     "text": [
      "Bash command to install the package via micromamba or conda (not recommended):\n",
      "micromamba install -c conda-forge biopython\n",
      "Or, alternatively:\n",
      "conda install -c conda-forge biopython\n"
     ]
    }
   ],
   "source": [
    "CONDA_COMAND_TO_INSTALL = '-c conda-forge biopython'\n",
    "\n",
    "print('Bash command to install the package via micromamba or conda (not recommended):')\n",
    "print(f'micromamba install {CONDA_COMAND_TO_INSTALL}')\n",
    "print('Or, alternatively:')\n",
    "print(f'conda install {CONDA_COMAND_TO_INSTALL}')"
   ]
  },
  {
   "cell_type": "markdown",
   "metadata": {},
   "source": [
    "Here are the bash comands to generate files required to reproduce the environemnt:\n",
    "\n",
    "```\n",
    "micromamba env export > environment.yml\n",
    "```\n",
    "\n",
    "Or, not recommended, with conda:\n",
    "\n",
    "```\n",
    "conda env export > environment.yml\n",
    "```"
   ]
  },
  {
   "cell_type": "code",
   "execution_count": 21,
   "metadata": {},
   "outputs": [
    {
     "name": "stdout",
     "output_type": "stream",
     "text": [
      "Bash comands to generate `pyproejct.toml`, `uv.lock` and `.python-version` files:\n",
      "uv init --python 3.12.8\n",
      "uv add ipykernel ipywidgets\n",
      "uv add biopython\n",
      "uv pip freeze > requirements.txt\n"
     ]
    }
   ],
   "source": [
    "PIP_PACKAGE_NAME = 'biopython'\n",
    "\n",
    "print('Bash comands to generate `pyproejct.toml`, `uv.lock` and `.python-version` files:')\n",
    "print(f'uv init --python {PYTHON_VERSION}')\n",
    "print('uv add ipykernel ipywidgets')\n",
    "print(f'uv add {PIP_PACKAGE_NAME}')\n",
    "print('uv pip freeze > requirements.txt')"
   ]
  }
 ],
 "metadata": {
  "kernelspec": {
   "display_name": "python-installation-guide",
   "language": "python",
   "name": "python3"
  },
  "language_info": {
   "codemirror_mode": {
    "name": "ipython",
    "version": 3
   },
   "file_extension": ".py",
   "mimetype": "text/x-python",
   "name": "python",
   "nbconvert_exporter": "python",
   "pygments_lexer": "ipython3",
   "version": "3.12.8"
  }
 },
 "nbformat": 4,
 "nbformat_minor": 2
}
